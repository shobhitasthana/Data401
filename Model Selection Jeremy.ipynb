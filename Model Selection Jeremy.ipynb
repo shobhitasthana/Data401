{
 "cells": [
  {
   "cell_type": "code",
   "execution_count": 3,
   "metadata": {
    "ExecuteTime": {
     "end_time": "2019-10-28T01:48:04.369023Z",
     "start_time": "2019-10-28T01:48:04.365407Z"
    }
   },
   "outputs": [],
   "source": [
    "from models import *\n",
    "import pandas as pd\n",
    "import numpy as np\n",
    "import os"
   ]
  },
  {
   "cell_type": "markdown",
   "metadata": {},
   "source": [
    "## Load Training Data"
   ]
  },
  {
   "cell_type": "code",
   "execution_count": 4,
   "metadata": {
    "ExecuteTime": {
     "end_time": "2019-10-28T01:48:16.537639Z",
     "start_time": "2019-10-28T01:48:05.442811Z"
    }
   },
   "outputs": [
    {
     "data": {
      "text/html": [
       "<div>\n",
       "<style scoped>\n",
       "    .dataframe tbody tr th:only-of-type {\n",
       "        vertical-align: middle;\n",
       "    }\n",
       "\n",
       "    .dataframe tbody tr th {\n",
       "        vertical-align: top;\n",
       "    }\n",
       "\n",
       "    .dataframe thead th {\n",
       "        text-align: right;\n",
       "    }\n",
       "</style>\n",
       "<table border=\"1\" class=\"dataframe\">\n",
       "  <thead>\n",
       "    <tr style=\"text-align: right;\">\n",
       "      <th></th>\n",
       "      <th>Unnamed: 0</th>\n",
       "      <th>index</th>\n",
       "      <th>text</th>\n",
       "      <th>label</th>\n",
       "      <th>score</th>\n",
       "      <th>comp_score</th>\n",
       "      <th>pos_score</th>\n",
       "      <th>000</th>\n",
       "      <th>10</th>\n",
       "      <th>100</th>\n",
       "      <th>...</th>\n",
       "      <th>yes</th>\n",
       "      <th>yet</th>\n",
       "      <th>york</th>\n",
       "      <th>you</th>\n",
       "      <th>young</th>\n",
       "      <th>younger</th>\n",
       "      <th>your</th>\n",
       "      <th>youth</th>\n",
       "      <th>zero</th>\n",
       "      <th>zombie</th>\n",
       "    </tr>\n",
       "  </thead>\n",
       "  <tbody>\n",
       "    <tr>\n",
       "      <td>0</td>\n",
       "      <td>0</td>\n",
       "      <td>0</td>\n",
       "      <td>['welcome', 'survive', 'tried', 'life', '!', '...</td>\n",
       "      <td>pos</td>\n",
       "      <td>['Bromwell High is a cartoon comedy.', 'It ran...</td>\n",
       "      <td>-0.012378</td>\n",
       "      <td>0.090444</td>\n",
       "      <td>0.0</td>\n",
       "      <td>0.0</td>\n",
       "      <td>0.0</td>\n",
       "      <td>...</td>\n",
       "      <td>0.0</td>\n",
       "      <td>0.0</td>\n",
       "      <td>0.0</td>\n",
       "      <td>0.000000</td>\n",
       "      <td>0.000000</td>\n",
       "      <td>0.0</td>\n",
       "      <td>0.0</td>\n",
       "      <td>0.0</td>\n",
       "      <td>0.0</td>\n",
       "      <td>0.0</td>\n",
       "    </tr>\n",
       "    <tr>\n",
       "      <td>1</td>\n",
       "      <td>1</td>\n",
       "      <td>1</td>\n",
       "      <td>['sailor', 'goddard', 'live', 'carlin', 'house...</td>\n",
       "      <td>pos</td>\n",
       "      <td>['Homelessness (or Houselessness as George Car...</td>\n",
       "      <td>0.110767</td>\n",
       "      <td>0.084000</td>\n",
       "      <td>0.0</td>\n",
       "      <td>0.0</td>\n",
       "      <td>0.0</td>\n",
       "      <td>...</td>\n",
       "      <td>0.0</td>\n",
       "      <td>0.0</td>\n",
       "      <td>0.0</td>\n",
       "      <td>0.000000</td>\n",
       "      <td>0.044742</td>\n",
       "      <td>0.0</td>\n",
       "      <td>0.0</td>\n",
       "      <td>0.0</td>\n",
       "      <td>0.0</td>\n",
       "      <td>0.0</td>\n",
       "    </tr>\n",
       "    <tr>\n",
       "      <td>2</td>\n",
       "      <td>2</td>\n",
       "      <td>2</td>\n",
       "      <td>['second', 'three', 'look', 'tambor', 'blazing...</td>\n",
       "      <td>pos</td>\n",
       "      <td>['Brilliant over-acting by Lesley Ann Warren.'...</td>\n",
       "      <td>0.248927</td>\n",
       "      <td>0.219727</td>\n",
       "      <td>0.0</td>\n",
       "      <td>0.0</td>\n",
       "      <td>0.0</td>\n",
       "      <td>...</td>\n",
       "      <td>0.0</td>\n",
       "      <td>0.0</td>\n",
       "      <td>0.0</td>\n",
       "      <td>0.000000</td>\n",
       "      <td>0.000000</td>\n",
       "      <td>0.0</td>\n",
       "      <td>0.0</td>\n",
       "      <td>0.0</td>\n",
       "      <td>0.0</td>\n",
       "      <td>0.0</td>\n",
       "    </tr>\n",
       "    <tr>\n",
       "      <td>3</td>\n",
       "      <td>3</td>\n",
       "      <td>3</td>\n",
       "      <td>['fisher', 'flawed', 'sure', 'society', 'lovab...</td>\n",
       "      <td>pos</td>\n",
       "      <td>['This is easily the most underrated film inn ...</td>\n",
       "      <td>0.392357</td>\n",
       "      <td>0.252714</td>\n",
       "      <td>0.0</td>\n",
       "      <td>0.0</td>\n",
       "      <td>0.0</td>\n",
       "      <td>...</td>\n",
       "      <td>0.0</td>\n",
       "      <td>0.0</td>\n",
       "      <td>0.0</td>\n",
       "      <td>0.082231</td>\n",
       "      <td>0.000000</td>\n",
       "      <td>0.0</td>\n",
       "      <td>0.0</td>\n",
       "      <td>0.0</td>\n",
       "      <td>0.0</td>\n",
       "      <td>0.0</td>\n",
       "    </tr>\n",
       "    <tr>\n",
       "      <td>4</td>\n",
       "      <td>4</td>\n",
       "      <td>4</td>\n",
       "      <td>['sailor', 'actress', 'film', 'job', 'actually...</td>\n",
       "      <td>pos</td>\n",
       "      <td>['This is not the typical Mel Brooks film.', '...</td>\n",
       "      <td>0.378333</td>\n",
       "      <td>0.152167</td>\n",
       "      <td>0.0</td>\n",
       "      <td>0.0</td>\n",
       "      <td>0.0</td>\n",
       "      <td>...</td>\n",
       "      <td>0.0</td>\n",
       "      <td>0.0</td>\n",
       "      <td>0.0</td>\n",
       "      <td>0.000000</td>\n",
       "      <td>0.000000</td>\n",
       "      <td>0.0</td>\n",
       "      <td>0.0</td>\n",
       "      <td>0.0</td>\n",
       "      <td>0.0</td>\n",
       "      <td>0.0</td>\n",
       "    </tr>\n",
       "  </tbody>\n",
       "</table>\n",
       "<p>5 rows × 2453 columns</p>\n",
       "</div>"
      ],
      "text/plain": [
       "   Unnamed: 0  index                                               text label  \\\n",
       "0           0      0  ['welcome', 'survive', 'tried', 'life', '!', '...   pos   \n",
       "1           1      1  ['sailor', 'goddard', 'live', 'carlin', 'house...   pos   \n",
       "2           2      2  ['second', 'three', 'look', 'tambor', 'blazing...   pos   \n",
       "3           3      3  ['fisher', 'flawed', 'sure', 'society', 'lovab...   pos   \n",
       "4           4      4  ['sailor', 'actress', 'film', 'job', 'actually...   pos   \n",
       "\n",
       "                                               score  comp_score  pos_score  \\\n",
       "0  ['Bromwell High is a cartoon comedy.', 'It ran...   -0.012378   0.090444   \n",
       "1  ['Homelessness (or Houselessness as George Car...    0.110767   0.084000   \n",
       "2  ['Brilliant over-acting by Lesley Ann Warren.'...    0.248927   0.219727   \n",
       "3  ['This is easily the most underrated film inn ...    0.392357   0.252714   \n",
       "4  ['This is not the typical Mel Brooks film.', '...    0.378333   0.152167   \n",
       "\n",
       "   000   10  100  ...  yes  yet  york       you     young  younger  your  \\\n",
       "0  0.0  0.0  0.0  ...  0.0  0.0   0.0  0.000000  0.000000      0.0   0.0   \n",
       "1  0.0  0.0  0.0  ...  0.0  0.0   0.0  0.000000  0.044742      0.0   0.0   \n",
       "2  0.0  0.0  0.0  ...  0.0  0.0   0.0  0.000000  0.000000      0.0   0.0   \n",
       "3  0.0  0.0  0.0  ...  0.0  0.0   0.0  0.082231  0.000000      0.0   0.0   \n",
       "4  0.0  0.0  0.0  ...  0.0  0.0   0.0  0.000000  0.000000      0.0   0.0   \n",
       "\n",
       "   youth  zero  zombie  \n",
       "0    0.0   0.0     0.0  \n",
       "1    0.0   0.0     0.0  \n",
       "2    0.0   0.0     0.0  \n",
       "3    0.0   0.0     0.0  \n",
       "4    0.0   0.0     0.0  \n",
       "\n",
       "[5 rows x 2453 columns]"
      ]
     },
     "execution_count": 4,
     "metadata": {},
     "output_type": "execute_result"
    }
   ],
   "source": [
    "train = pd.read_csv('tf_lemmatized_initial_feature_set.csv')\n",
    "train.head()"
   ]
  },
  {
   "cell_type": "code",
   "execution_count": 5,
   "metadata": {
    "ExecuteTime": {
     "end_time": "2019-10-28T01:48:50.078211Z",
     "start_time": "2019-10-28T01:48:21.842319Z"
    }
   },
   "outputs": [],
   "source": [
    "# Shuffle data prior to building model\n",
    "train = train.sample(frac = 1)\n",
    "\n",
    "# Make a numeric label for model building (LDA and SVM)\n",
    "train['lda_numeric_label'] = train.apply(lambda x: 1 if x['label'] == 'pos' else -1, axis = 1)\n",
    "# # For Logistic\n",
    "train['log_numeric_label'] = train.apply(lambda x: 1 if x['label'] == 'pos' else 0, axis = 1)\n",
    "\n",
    "\n",
    "model_response = train[['log_numeric_label']]\n",
    "# Currently only using categorical variables\n",
    "model_predictors = pd.DataFrame(train.iloc[:,5:])"
   ]
  },
  {
   "cell_type": "code",
   "execution_count": 10,
   "metadata": {
    "ExecuteTime": {
     "end_time": "2019-10-28T01:51:55.783333Z",
     "start_time": "2019-10-28T01:51:55.772363Z"
    }
   },
   "outputs": [],
   "source": [
    "def cross_validation(x, y, fold_num = 5, metrics = ['accuracy']):\n",
    "    \"\"\"\n",
    "    x - predictor variables in Pandas DataFrame\n",
    "    y - response variables in Pandas DataFrame\n",
    "    fold_num - number of folds for k fold cross validation\n",
    "    \n",
    "    perform k fold cross validation and report the average for our metric of interest over the k folds\n",
    "    \"\"\"\n",
    "        \n",
    "    num_rows = x.shape[0]\n",
    "    rows_per_fold = num_rows // fold_num\n",
    "    \n",
    "    # Is used later to calculate training and testing indices\n",
    "    total_indices = set(range(num_rows))\n",
    "    \n",
    "    \n",
    "    log_model_eval = {metric: [] for metric in metrics}\n",
    "\n",
    "    # Iterate over the data set\n",
    "    for fold_count in range(0,fold_num):\n",
    "        # Calculate the split\n",
    "        test_indices = list(set(range(fold_count*rows_per_fold,(fold_count*rows_per_fold)  + rows_per_fold)))\n",
    "        train_indices = list(set(total_indices) - set(test_indices))\n",
    "\n",
    "        # Perform the split\n",
    "        train_x = x.iloc[train_indices,:]\n",
    "        train_y = y.iloc[train_indices,]\n",
    "                \n",
    "        test_x = x.iloc[test_indices,:]\n",
    "        test_y = y.iloc[test_indices]\n",
    "        \n",
    "#         # Fit models to training data\n",
    "#         lda_model = LDA()\n",
    "#         lda_model.fit(train_x.to_numpy(), train_y.to_numpy())\n",
    "        \n",
    "        log_model = LogReg()\n",
    "        log_model.fit(train_x, train_y)\n",
    "        \n",
    "        \n",
    "        for metric in  metrics:\n",
    "            if metric == 'accuracy':\n",
    "                model_eval = pd.DataFrame({'pred':log_model.predict(test_x),'ground_truth':test_y.log_numeric_label})\n",
    "                log_model_eval[metric].append(sum(model_eval.pred == model_eval.ground_truth) / model_eval.shape[0])\n",
    "                print(log_model_eval)\n",
    "#                 model_eval = pd.DataFrame({'pred':lda_model.predict(test_x.to_numpy()),'ground_truth':test_y.numeric_label})\n",
    "#                 log_model_eval[metric].append(sum(model_eval.pred == model_eval.ground_truth) / model_eval.shape[0])\n",
    "\n",
    "            else:\n",
    "                pass\n",
    "\n",
    "    print(log_model_eval)\n",
    "    return [metric + ' ' +str(sum(log_model_eval[metric])/fold_num) for metric in metrics]"
   ]
  },
  {
   "cell_type": "code",
   "execution_count": null,
   "metadata": {
    "ExecuteTime": {
     "start_time": "2019-10-28T02:02:49.268Z"
    }
   },
   "outputs": [
    {
     "name": "stdout",
     "output_type": "stream",
     "text": [
      "1\n",
      "2\n"
     ]
    }
   ],
   "source": [
    "cross_validation(model_predictors, model_response,2)"
   ]
  },
  {
   "cell_type": "code",
   "execution_count": 12,
   "metadata": {
    "ExecuteTime": {
     "end_time": "2019-10-28T01:56:38.574691Z",
     "start_time": "2019-10-28T01:56:38.481427Z"
    }
   },
   "outputs": [
    {
     "name": "stderr",
     "output_type": "stream",
     "text": [
      "c:\\users\\gjber\\appdata\\local\\programs\\python\\python36\\lib\\site-packages\\sklearn\\utils\\validation.py:578: DataConversionWarning: A column-vector y was passed when a 1d array was expected. Please change the shape of y to (n_samples, ), for example using ravel().\n",
      "  y = column_or_1d(y, warn=True)\n"
     ]
    },
    {
     "data": {
      "text/plain": [
       "LogisticRegression(C=1.0, class_weight=None, dual=False, fit_intercept=True,\n",
       "          intercept_scaling=1, max_iter=100, multi_class='ovr', n_jobs=1,\n",
       "          penalty='l2', random_state=None, solver='liblinear', tol=0.0001,\n",
       "          verbose=0, warm_start=False)"
      ]
     },
     "execution_count": 12,
     "metadata": {},
     "output_type": "execute_result"
    }
   ],
   "source": [
    "from sklearn.linear_model import LogisticRegression\n",
    "\n",
    "# Perform the split\n",
    "train_x = model_predictors.iloc[:1000,:]\n",
    "train_y = model_response.iloc[:1000,]\n",
    "\n",
    "test_x = model_predictors.iloc[1001:1300,:]\n",
    "test_y = model_response.iloc[1001:1300,]\n",
    "log = LogisticRegression()\n",
    "log.fit(train_x, train_y)"
   ]
  },
  {
   "cell_type": "code",
   "execution_count": 13,
   "metadata": {
    "ExecuteTime": {
     "end_time": "2019-10-28T01:58:59.802577Z",
     "start_time": "2019-10-28T01:56:51.186522Z"
    }
   },
   "outputs": [
    {
     "name": "stdout",
     "output_type": "stream",
     "text": [
      "1\n",
      "2\n",
      "3\n",
      "4\n",
      "5\n",
      "6\n"
     ]
    }
   ],
   "source": [
    "log_model = LogReg()\n",
    "log_model.fit(train_x, train_y)"
   ]
  },
  {
   "cell_type": "code",
   "execution_count": 14,
   "metadata": {
    "ExecuteTime": {
     "end_time": "2019-10-28T01:59:11.942699Z",
     "start_time": "2019-10-28T01:59:11.922235Z"
    }
   },
   "outputs": [
    {
     "data": {
      "text/plain": [
       "1.0"
      ]
     },
     "execution_count": 14,
     "metadata": {},
     "output_type": "execute_result"
    }
   ],
   "source": [
    "model_eval = pd.DataFrame({'pred':log_model.predict(test_x),'ground_truth':test_y.log_numeric_label})\n",
    "sum(model_eval.pred == model_eval.ground_truth) / model_eval.shape[0]"
   ]
  }
 ],
 "metadata": {
  "kernelspec": {
   "display_name": "Python 3",
   "language": "python",
   "name": "python3"
  },
  "language_info": {
   "codemirror_mode": {
    "name": "ipython",
    "version": 3
   },
   "file_extension": ".py",
   "mimetype": "text/x-python",
   "name": "python",
   "nbconvert_exporter": "python",
   "pygments_lexer": "ipython3",
   "version": "3.6.8"
  },
  "toc": {
   "base_numbering": 1,
   "nav_menu": {},
   "number_sections": true,
   "sideBar": true,
   "skip_h1_title": false,
   "title_cell": "Table of Contents",
   "title_sidebar": "Contents",
   "toc_cell": false,
   "toc_position": {},
   "toc_section_display": true,
   "toc_window_display": false
  },
  "varInspector": {
   "cols": {
    "lenName": 16,
    "lenType": 16,
    "lenVar": 40
   },
   "kernels_config": {
    "python": {
     "delete_cmd_postfix": "",
     "delete_cmd_prefix": "del ",
     "library": "var_list.py",
     "varRefreshCmd": "print(var_dic_list())"
    },
    "r": {
     "delete_cmd_postfix": ") ",
     "delete_cmd_prefix": "rm(",
     "library": "var_list.r",
     "varRefreshCmd": "cat(var_dic_list()) "
    }
   },
   "types_to_exclude": [
    "module",
    "function",
    "builtin_function_or_method",
    "instance",
    "_Feature"
   ],
   "window_display": false
  }
 },
 "nbformat": 4,
 "nbformat_minor": 2
}
