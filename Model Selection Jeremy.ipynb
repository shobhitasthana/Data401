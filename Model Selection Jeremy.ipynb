{
 "cells": [
  {
   "cell_type": "code",
   "execution_count": 8,
   "metadata": {
    "ExecuteTime": {
     "end_time": "2019-10-28T01:48:04.369023Z",
     "start_time": "2019-10-28T01:48:04.365407Z"
    }
   },
   "outputs": [],
   "source": [
    "from models import *\n",
    "import pandas as pd\n",
    "import numpy as np\n",
    "import os\n",
    "import sys\n",
    "from sklearn import datasets\n",
    "from sklearn.metrics import accuracy_score\n",
    "from sklearn.metrics import recall_score\n",
    "from sklearn.metrics import precision_score\n",
    "from sklearn.metrics import f1_score"
   ]
  },
  {
   "cell_type": "markdown",
   "metadata": {},
   "source": [
    "## Load Training Data"
   ]
  },
  {
   "cell_type": "code",
   "execution_count": 2,
   "metadata": {
    "ExecuteTime": {
     "end_time": "2019-10-28T01:48:16.537639Z",
     "start_time": "2019-10-28T01:48:05.442811Z"
    }
   },
   "outputs": [
    {
     "data": {
      "text/html": [
       "<div>\n",
       "<style scoped>\n",
       "    .dataframe tbody tr th:only-of-type {\n",
       "        vertical-align: middle;\n",
       "    }\n",
       "\n",
       "    .dataframe tbody tr th {\n",
       "        vertical-align: top;\n",
       "    }\n",
       "\n",
       "    .dataframe thead th {\n",
       "        text-align: right;\n",
       "    }\n",
       "</style>\n",
       "<table border=\"1\" class=\"dataframe\">\n",
       "  <thead>\n",
       "    <tr style=\"text-align: right;\">\n",
       "      <th></th>\n",
       "      <th>Unnamed: 0</th>\n",
       "      <th>index</th>\n",
       "      <th>text</th>\n",
       "      <th>label</th>\n",
       "      <th>id</th>\n",
       "      <th>score</th>\n",
       "      <th>comp_score</th>\n",
       "      <th>pos_score</th>\n",
       "      <th>000</th>\n",
       "      <th>10</th>\n",
       "      <th>...</th>\n",
       "      <th>yes</th>\n",
       "      <th>yet</th>\n",
       "      <th>york</th>\n",
       "      <th>you</th>\n",
       "      <th>young</th>\n",
       "      <th>younger</th>\n",
       "      <th>your</th>\n",
       "      <th>youth</th>\n",
       "      <th>zero</th>\n",
       "      <th>zombie</th>\n",
       "    </tr>\n",
       "  </thead>\n",
       "  <tbody>\n",
       "    <tr>\n",
       "      <th>0</th>\n",
       "      <td>0</td>\n",
       "      <td>0</td>\n",
       "      <td>['played', 'well', 'comedy', 'trying', 'randal...</td>\n",
       "      <td>pos</td>\n",
       "      <td>0_10.txt</td>\n",
       "      <td>['I went and saw this movie last night after b...</td>\n",
       "      <td>0.187711</td>\n",
       "      <td>0.142444</td>\n",
       "      <td>0.0</td>\n",
       "      <td>0.0</td>\n",
       "      <td>...</td>\n",
       "      <td>0.0</td>\n",
       "      <td>0.0</td>\n",
       "      <td>0.0</td>\n",
       "      <td>0.000000</td>\n",
       "      <td>0.000000</td>\n",
       "      <td>0.0</td>\n",
       "      <td>0.0</td>\n",
       "      <td>0.0</td>\n",
       "      <td>0.0</td>\n",
       "      <td>0.0</td>\n",
       "    </tr>\n",
       "    <tr>\n",
       "      <th>1</th>\n",
       "      <td>1</td>\n",
       "      <td>1</td>\n",
       "      <td>['pressure', 'caddy', 'follows', 'course', 'au...</td>\n",
       "      <td>pos</td>\n",
       "      <td>10000_7.txt</td>\n",
       "      <td>['Actor turned director Bill Paxton follows up...</td>\n",
       "      <td>0.419822</td>\n",
       "      <td>0.178889</td>\n",
       "      <td>0.0</td>\n",
       "      <td>0.0</td>\n",
       "      <td>...</td>\n",
       "      <td>0.0</td>\n",
       "      <td>0.0</td>\n",
       "      <td>0.0</td>\n",
       "      <td>0.045178</td>\n",
       "      <td>0.046412</td>\n",
       "      <td>0.0</td>\n",
       "      <td>0.0</td>\n",
       "      <td>0.0</td>\n",
       "      <td>0.0</td>\n",
       "      <td>0.0</td>\n",
       "    </tr>\n",
       "    <tr>\n",
       "      <th>2</th>\n",
       "      <td>2</td>\n",
       "      <td>2</td>\n",
       "      <td>['intimidated', 'course', 'doe', 'psychologica...</td>\n",
       "      <td>pos</td>\n",
       "      <td>10001_9.txt</td>\n",
       "      <td>[\"As a recreational golfer with some knowledge...</td>\n",
       "      <td>0.225612</td>\n",
       "      <td>0.122000</td>\n",
       "      <td>0.0</td>\n",
       "      <td>0.0</td>\n",
       "      <td>...</td>\n",
       "      <td>0.0</td>\n",
       "      <td>0.0</td>\n",
       "      <td>0.0</td>\n",
       "      <td>0.000000</td>\n",
       "      <td>0.056280</td>\n",
       "      <td>0.0</td>\n",
       "      <td>0.0</td>\n",
       "      <td>0.0</td>\n",
       "      <td>0.0</td>\n",
       "      <td>0.0</td>\n",
       "    </tr>\n",
       "    <tr>\n",
       "      <th>3</th>\n",
       "      <td>3</td>\n",
       "      <td>3</td>\n",
       "      <td>['sweet', 'incredibly', 'well', 'doe', 'before...</td>\n",
       "      <td>pos</td>\n",
       "      <td>10002_8.txt</td>\n",
       "      <td>['I saw this film in a sneak preview, and it i...</td>\n",
       "      <td>0.341656</td>\n",
       "      <td>0.209778</td>\n",
       "      <td>0.0</td>\n",
       "      <td>0.0</td>\n",
       "      <td>...</td>\n",
       "      <td>0.0</td>\n",
       "      <td>0.0</td>\n",
       "      <td>0.0</td>\n",
       "      <td>0.000000</td>\n",
       "      <td>0.000000</td>\n",
       "      <td>0.0</td>\n",
       "      <td>0.0</td>\n",
       "      <td>0.0</td>\n",
       "      <td>0.0</td>\n",
       "      <td>0.0</td>\n",
       "    </tr>\n",
       "    <tr>\n",
       "      <th>4</th>\n",
       "      <td>4</td>\n",
       "      <td>4</td>\n",
       "      <td>['caddy', 'kid', 'anti-catholic', 'sympathetic...</td>\n",
       "      <td>pos</td>\n",
       "      <td>10003_8.txt</td>\n",
       "      <td>['Bill Paxton has taken the true story of the ...</td>\n",
       "      <td>0.460417</td>\n",
       "      <td>0.176167</td>\n",
       "      <td>0.0</td>\n",
       "      <td>0.0</td>\n",
       "      <td>...</td>\n",
       "      <td>0.0</td>\n",
       "      <td>0.0</td>\n",
       "      <td>0.0</td>\n",
       "      <td>0.000000</td>\n",
       "      <td>0.000000</td>\n",
       "      <td>0.0</td>\n",
       "      <td>0.0</td>\n",
       "      <td>0.0</td>\n",
       "      <td>0.0</td>\n",
       "      <td>0.0</td>\n",
       "    </tr>\n",
       "  </tbody>\n",
       "</table>\n",
       "<p>5 rows × 2454 columns</p>\n",
       "</div>"
      ],
      "text/plain": [
       "   Unnamed: 0  index                                               text label  \\\n",
       "0           0      0  ['played', 'well', 'comedy', 'trying', 'randal...   pos   \n",
       "1           1      1  ['pressure', 'caddy', 'follows', 'course', 'au...   pos   \n",
       "2           2      2  ['intimidated', 'course', 'doe', 'psychologica...   pos   \n",
       "3           3      3  ['sweet', 'incredibly', 'well', 'doe', 'before...   pos   \n",
       "4           4      4  ['caddy', 'kid', 'anti-catholic', 'sympathetic...   pos   \n",
       "\n",
       "            id                                              score  comp_score  \\\n",
       "0     0_10.txt  ['I went and saw this movie last night after b...    0.187711   \n",
       "1  10000_7.txt  ['Actor turned director Bill Paxton follows up...    0.419822   \n",
       "2  10001_9.txt  [\"As a recreational golfer with some knowledge...    0.225612   \n",
       "3  10002_8.txt  ['I saw this film in a sneak preview, and it i...    0.341656   \n",
       "4  10003_8.txt  ['Bill Paxton has taken the true story of the ...    0.460417   \n",
       "\n",
       "   pos_score  000   10  ...  yes  yet  york       you     young  younger  \\\n",
       "0   0.142444  0.0  0.0  ...  0.0  0.0   0.0  0.000000  0.000000      0.0   \n",
       "1   0.178889  0.0  0.0  ...  0.0  0.0   0.0  0.045178  0.046412      0.0   \n",
       "2   0.122000  0.0  0.0  ...  0.0  0.0   0.0  0.000000  0.056280      0.0   \n",
       "3   0.209778  0.0  0.0  ...  0.0  0.0   0.0  0.000000  0.000000      0.0   \n",
       "4   0.176167  0.0  0.0  ...  0.0  0.0   0.0  0.000000  0.000000      0.0   \n",
       "\n",
       "   your  youth  zero  zombie  \n",
       "0   0.0    0.0   0.0     0.0  \n",
       "1   0.0    0.0   0.0     0.0  \n",
       "2   0.0    0.0   0.0     0.0  \n",
       "3   0.0    0.0   0.0     0.0  \n",
       "4   0.0    0.0   0.0     0.0  \n",
       "\n",
       "[5 rows x 2454 columns]"
      ]
     },
     "execution_count": 2,
     "metadata": {},
     "output_type": "execute_result"
    }
   ],
   "source": [
    "train = pd.read_csv('train_tf_lemmatized_initial_feature_set.csv')\n",
    "test = pd.read_csv('test_tf_lemmatized_initial_feature_set.csv')\n",
    "test.head()\n"
   ]
  },
  {
   "cell_type": "code",
   "execution_count": 3,
   "metadata": {
    "ExecuteTime": {
     "end_time": "2019-10-28T01:48:50.078211Z",
     "start_time": "2019-10-28T01:48:21.842319Z"
    }
   },
   "outputs": [],
   "source": [
    "# Shuffle data prior to building model\n",
    "train = train.sample(frac = 1)\n",
    "\n",
    "# Make a numeric label for model building (LDA and SVM)\n",
    "train['numeric_label'] = train.apply(lambda x: 1 if x['label'] == 'pos' else -1, axis = 1)\n",
    "test['numeric_label'] = test.apply(lambda x: 1 if x['label'] == 'pos' else -1, axis = 1)\n",
    "\n",
    "train_y = train['numeric_label']\n",
    "test_y = test['numeric_label']\n",
    "# Currently only using categorical variables\n",
    "train_x = pd.DataFrame(train.iloc[:,7:-1])\n",
    "test_x = pd.DataFrame(test.iloc[:,6:-1])"
   ]
  },
  {
   "cell_type": "code",
   "execution_count": 34,
   "metadata": {
    "ExecuteTime": {
     "start_time": "2019-10-28T02:02:49.268Z"
    },
    "scrolled": true
   },
   "outputs": [],
   "source": [
    "svm = SVM()\n",
    "svm.fit(np.array(train_x), np.array(train_y), c=0, epoch=100, rate=.01)\n",
    "predictions = svm.predict(np.array(test_x))"
   ]
  },
  {
   "cell_type": "code",
   "execution_count": 35,
   "metadata": {},
   "outputs": [
    {
     "data": {
      "text/plain": [
       "{'accuracy': 0.87876,\n",
       " 'precision': 0.8713042114343973,\n",
       " 'recall': 0.8888,\n",
       " 'f1': 0.8799651498950538}"
      ]
     },
     "execution_count": 35,
     "metadata": {},
     "output_type": "execute_result"
    }
   ],
   "source": [
    "svm.score(predictions, test_y)"
   ]
  },
  {
   "cell_type": "code",
   "execution_count": 33,
   "metadata": {},
   "outputs": [],
   "source": [
    "def svm_grid_search(train_x, train_y, text_x, test_y, c_list, epoch_list, learning_rates,metric='accuracy'):\n",
    "    parameters = {}\n",
    "    highest = -1\n",
    "    best = None\n",
    "    for c in c_list:\n",
    "        for epoch in epoch_list:\n",
    "            for learning_rate in learning_rates:\n",
    "                key = str(c) + \"-\" + str(epoch) + \"-\" + str(learning_rate)\n",
    "                svm = SVM()\n",
    "                svm.fit(np.array(train_x), np.array(train_y), c=c, epoch=epoch, rate=learning_rate)\n",
    "                preditctions = svm.predict(np.array(test_x))\n",
    "                metrics = {}\n",
    "                metrics['accuracy'] = accuracy_score(test_y, predictions)\n",
    "                metrics['precision'] = precision_score(test_y, predictions)\n",
    "                metrics['recall'] = recall_score(test_y, predictions)\n",
    "                metrics['f1'] = f1_score(test_y, predictions)\n",
    "                #metrics = svm.score(predictions, test_y)\n",
    "                parameters[key] = metrics\n",
    "                try:\n",
    "                    if metrics[metric] > highest:\n",
    "                        highest = metrics[metric]\n",
    "                        best = key\n",
    "                except KeyError:\n",
    "                    raise ValueError(f\"Given metric of %s must be one of 'accuracy','precision','recall','f1'\" % metric)\n",
    "    return best, pd.DataFrame(parameters)"
   ]
  },
  {
   "cell_type": "code",
   "execution_count": 11,
   "metadata": {
    "scrolled": true
   },
   "outputs": [],
   "source": [
    "cs = [0, .05, .1, 100]#, .2, .5, 1, 3]\n",
    "es = [1, 10] #30, 50]\n",
    "lr = [.01]\n",
    "best, combos = svm_grid_search(train_x, train_y, test_x, test_y, cs, es, lr)"
   ]
  },
  {
   "cell_type": "code",
   "execution_count": 12,
   "metadata": {},
   "outputs": [],
   "source": [
    "#stanford_train = pd.read_csv('output.csv', nrows=10)\n",
    "#stanford_train"
   ]
  },
  {
   "cell_type": "code",
   "execution_count": 13,
   "metadata": {},
   "outputs": [
    {
     "data": {
      "text/plain": [
       "'0-1-0.01'"
      ]
     },
     "execution_count": 13,
     "metadata": {},
     "output_type": "execute_result"
    }
   ],
   "source": [
    "best"
   ]
  },
  {
   "cell_type": "code",
   "execution_count": 14,
   "metadata": {},
   "outputs": [
    {
     "data": {
      "text/html": [
       "<div>\n",
       "<style scoped>\n",
       "    .dataframe tbody tr th:only-of-type {\n",
       "        vertical-align: middle;\n",
       "    }\n",
       "\n",
       "    .dataframe tbody tr th {\n",
       "        vertical-align: top;\n",
       "    }\n",
       "\n",
       "    .dataframe thead th {\n",
       "        text-align: right;\n",
       "    }\n",
       "</style>\n",
       "<table border=\"1\" class=\"dataframe\">\n",
       "  <thead>\n",
       "    <tr style=\"text-align: right;\">\n",
       "      <th></th>\n",
       "      <th>0-1-0.01</th>\n",
       "      <th>0-10-0.01</th>\n",
       "      <th>0.05-1-0.01</th>\n",
       "      <th>0.05-10-0.01</th>\n",
       "      <th>0.1-1-0.01</th>\n",
       "      <th>0.1-10-0.01</th>\n",
       "      <th>100-1-0.01</th>\n",
       "      <th>100-10-0.01</th>\n",
       "    </tr>\n",
       "  </thead>\n",
       "  <tbody>\n",
       "    <tr>\n",
       "      <th>accuracy</th>\n",
       "      <td>0.660320</td>\n",
       "      <td>0.660320</td>\n",
       "      <td>0.660320</td>\n",
       "      <td>0.660320</td>\n",
       "      <td>0.660320</td>\n",
       "      <td>0.660320</td>\n",
       "      <td>0.660320</td>\n",
       "      <td>0.660320</td>\n",
       "    </tr>\n",
       "    <tr>\n",
       "      <th>precision</th>\n",
       "      <td>0.605208</td>\n",
       "      <td>0.605208</td>\n",
       "      <td>0.605208</td>\n",
       "      <td>0.605208</td>\n",
       "      <td>0.605208</td>\n",
       "      <td>0.605208</td>\n",
       "      <td>0.605208</td>\n",
       "      <td>0.605208</td>\n",
       "    </tr>\n",
       "    <tr>\n",
       "      <th>recall</th>\n",
       "      <td>0.922240</td>\n",
       "      <td>0.922240</td>\n",
       "      <td>0.922240</td>\n",
       "      <td>0.922240</td>\n",
       "      <td>0.922240</td>\n",
       "      <td>0.922240</td>\n",
       "      <td>0.922240</td>\n",
       "      <td>0.922240</td>\n",
       "    </tr>\n",
       "    <tr>\n",
       "      <th>f1</th>\n",
       "      <td>0.730823</td>\n",
       "      <td>0.730823</td>\n",
       "      <td>0.730823</td>\n",
       "      <td>0.730823</td>\n",
       "      <td>0.730823</td>\n",
       "      <td>0.730823</td>\n",
       "      <td>0.730823</td>\n",
       "      <td>0.730823</td>\n",
       "    </tr>\n",
       "  </tbody>\n",
       "</table>\n",
       "</div>"
      ],
      "text/plain": [
       "           0-1-0.01  0-10-0.01  0.05-1-0.01  0.05-10-0.01  0.1-1-0.01  \\\n",
       "accuracy   0.660320   0.660320     0.660320      0.660320    0.660320   \n",
       "precision  0.605208   0.605208     0.605208      0.605208    0.605208   \n",
       "recall     0.922240   0.922240     0.922240      0.922240    0.922240   \n",
       "f1         0.730823   0.730823     0.730823      0.730823    0.730823   \n",
       "\n",
       "           0.1-10-0.01  100-1-0.01  100-10-0.01  \n",
       "accuracy      0.660320    0.660320     0.660320  \n",
       "precision     0.605208    0.605208     0.605208  \n",
       "recall        0.922240    0.922240     0.922240  \n",
       "f1            0.730823    0.730823     0.730823  "
      ]
     },
     "execution_count": 14,
     "metadata": {},
     "output_type": "execute_result"
    }
   ],
   "source": [
    "combos"
   ]
  },
  {
   "cell_type": "code",
   "execution_count": null,
   "metadata": {},
   "outputs": [],
   "source": [
    "from sklearn.datasets import load_svmlight_file\n",
    "data = load_svmlight_file(\"aclImdb/train/labeledBow.feat\")\n",
    "x = data[0]\n",
    "y = np.array([1 if x >= 5 else -1 for x in data[1]])\n",
    "svm = SVM()\n",
    "svm.fit(x, y, epoch=1)"
   ]
  },
  {
   "cell_type": "code",
   "execution_count": null,
   "metadata": {},
   "outputs": [],
   "source": [
    "(x[0]).dot(np.random.rand(x[0].shape[1]))"
   ]
  },
  {
   "cell_type": "code",
   "execution_count": null,
   "metadata": {},
   "outputs": [],
   "source": [
    "x[0].shape"
   ]
  },
  {
   "cell_type": "code",
   "execution_count": null,
   "metadata": {},
   "outputs": [],
   "source": [
    "from sklearn.svm import SVC\n",
    "clf = SVC(gamma='auto')\n",
    "clf.fit(x, y)\n",
    "preds = clf.predict(x)"
   ]
  },
  {
   "cell_type": "code",
   "execution_count": null,
   "metadata": {},
   "outputs": [],
   "source": [
    "from sklearn.metrics import accuracy_score\n",
    "accuracy_score(y, preds)"
   ]
  },
  {
   "cell_type": "code",
   "execution_count": null,
   "metadata": {},
   "outputs": [],
   "source": []
  }
 ],
 "metadata": {
  "kernelspec": {
   "display_name": "Python 3",
   "language": "python",
   "name": "python3"
  },
  "language_info": {
   "codemirror_mode": {
    "name": "ipython",
    "version": 3
   },
   "file_extension": ".py",
   "mimetype": "text/x-python",
   "name": "python",
   "nbconvert_exporter": "python",
   "pygments_lexer": "ipython3",
   "version": "3.7.4"
  },
  "toc": {
   "base_numbering": 1,
   "nav_menu": {},
   "number_sections": true,
   "sideBar": true,
   "skip_h1_title": false,
   "title_cell": "Table of Contents",
   "title_sidebar": "Contents",
   "toc_cell": false,
   "toc_position": {},
   "toc_section_display": true,
   "toc_window_display": false
  },
  "varInspector": {
   "cols": {
    "lenName": 16,
    "lenType": 16,
    "lenVar": 40
   },
   "kernels_config": {
    "python": {
     "delete_cmd_postfix": "",
     "delete_cmd_prefix": "del ",
     "library": "var_list.py",
     "varRefreshCmd": "print(var_dic_list())"
    },
    "r": {
     "delete_cmd_postfix": ") ",
     "delete_cmd_prefix": "rm(",
     "library": "var_list.r",
     "varRefreshCmd": "cat(var_dic_list()) "
    }
   },
   "types_to_exclude": [
    "module",
    "function",
    "builtin_function_or_method",
    "instance",
    "_Feature"
   ],
   "window_display": false
  }
 },
 "nbformat": 4,
 "nbformat_minor": 2
}
