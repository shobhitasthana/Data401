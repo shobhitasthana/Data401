{
 "cells": [
  {
   "cell_type": "code",
   "execution_count": 1,
   "metadata": {},
   "outputs": [],
   "source": [
    "from models import *\n",
    "import pandas as pd\n",
    "import numpy as np\n",
    "import os\n",
    "from sklearn.datasets import load_svmlight_file\n"
   ]
  },
  {
   "cell_type": "code",
   "execution_count": 2,
   "metadata": {},
   "outputs": [],
   "source": [
    "train = pd.read_csv('train_tf_lemmatized_initial_feature_set.csv')\n",
    "test = pd.read_csv('test_tf_lemmatized_initial_feature_set.csv')\n",
    "\n",
    "# train_given = load_svmlight_file('labeledBow.feat')\n",
    "# test_given = load_svmlight_file('labeledBowtest.feat')\n",
    "# test_data = test_given[0]\n",
    "# test_y =test_given[1]\n",
    "# test_y = np.where(test_y<=4,-1,1)\n",
    "# data = train_given[0][len(train_given[1])*0.45:len(train_given[1])0.55,]\n",
    "# y = train_given[1][int(len(train_given[1]))*0.45:int(len(train_given[1])0.55),]\n",
    "\n",
    "# y\n",
    "#train = train.sample(frac = 1)\n",
    "\n",
    "# Make a numeric label for model building (LDA and SVM)\n",
    "train['lda_numeric_label'] = train.apply(lambda x: 1 if x['label'] == 'pos' else -1, axis = 1)\n",
    "# # For Logistic\n",
    "test['lda_numeric_label'] = test.apply(lambda x: 1 if x['label'] == 'pos' else -1, axis = 1)"
   ]
  },
  {
   "cell_type": "code",
   "execution_count": 3,
   "metadata": {},
   "outputs": [],
   "source": [
    "train_y = np.array(train['lda_numeric_label'])\n",
    "test_y = np.array(test['lda_numeric_label'])"
   ]
  },
  {
   "cell_type": "code",
   "execution_count": 4,
   "metadata": {},
   "outputs": [],
   "source": [
    "data = train.iloc[:,7:].drop('lda_numeric_label',axis=1)"
   ]
  },
  {
   "cell_type": "code",
   "execution_count": 5,
   "metadata": {},
   "outputs": [],
   "source": [
    "data = np.array(data)"
   ]
  },
  {
   "cell_type": "code",
   "execution_count": 6,
   "metadata": {},
   "outputs": [],
   "source": [
    "test_data = np.array(test.iloc[:,6:].drop('lda_numeric_label',axis =1))\n"
   ]
  },
  {
   "cell_type": "code",
   "execution_count": null,
   "metadata": {},
   "outputs": [
    {
     "name": "stdout",
     "output_type": "stream",
     "text": [
      "B calculated\n"
     ]
    }
   ],
   "source": [
    "lda = LDA()\n",
    "lda.fit(data, train_y)"
   ]
  },
  {
   "cell_type": "code",
   "execution_count": null,
   "metadata": {},
   "outputs": [
    {
     "name": "stdout",
     "output_type": "stream",
     "text": [
      "B calculated\n"
     ]
    }
   ],
   "source": []
  },
  {
   "cell_type": "code",
   "execution_count": null,
   "metadata": {},
   "outputs": [],
   "source": [
    "pred = lda_model.predict(test_data)\n",
    "\n",
    "print(np.sum(pred == test_y)/len(test_y))"
   ]
  },
  {
   "cell_type": "code",
   "execution_count": null,
   "metadata": {},
   "outputs": [],
   "source": [
    "train = train.sample(frac = 1)\n",
    "test = test.sample(frac=1)\n",
    "# Make a numeric label for model building (LDA and SVM)\n",
    "train_labels = train.apply(lambda x: 1 if x['label'] == 'pos' else -1, axis = 1)\n",
    "test_labels = test.apply(lambda x: 1 if x['label'] == 'pos' else -1, axis = 1)\n",
    "# # For Logistic\n",
    "#train['log_numeric_label'] = train.apply(lambda x: 1 if x['label'] == 'pos' else 0, axis = 1)\n",
    "\n",
    "\n",
    "\n",
    "#model_response = train[['log_numeric_label']]\n",
    "\n",
    "# Currently only using categorical variables\n",
    "model_predictors = np.array(train.iloc[:,7:])\n",
    "test_predictors = np.array(test.iloc[:,6:])"
   ]
  },
  {
   "cell_type": "code",
   "execution_count": null,
   "metadata": {},
   "outputs": [],
   "source": [
    "train_labels = np.array(train_labels)\n",
    "test_labels = np.array(test_labels)\n",
    "\n",
    "lda_model = LDA()\n",
    "lda_model.fit(model_predictors, train_labels)\n",
    "pred = lda_model.predict(test_predictors)\n",
    "print(lda_model.score(np.array(pred),test_labels))"
   ]
  }
 ],
 "metadata": {
  "kernelspec": {
   "display_name": "Python 3",
   "language": "python",
   "name": "python3"
  },
  "language_info": {
   "codemirror_mode": {
    "name": "ipython",
    "version": 3
   },
   "file_extension": ".py",
   "mimetype": "text/x-python",
   "name": "python",
   "nbconvert_exporter": "python",
   "pygments_lexer": "ipython3",
   "version": "3.6.2"
  }
 },
 "nbformat": 4,
 "nbformat_minor": 2
}
